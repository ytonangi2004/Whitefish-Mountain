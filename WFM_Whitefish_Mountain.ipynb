{
 "cells": [
  {
   "cell_type": "code",
   "execution_count": 4,
   "metadata": {},
   "outputs": [
    {
     "name": "stdout",
     "output_type": "stream",
     "text": [
      "(11, 13)\n",
      "                            Name  triple  double  surface  total_chairs  \\\n",
      "141  Blacktail Mountain Ski Area       1       2        1             4   \n",
      "142                 Bridger Bowl       6       1        3            11   \n",
      "143           Discovery Ski Area       5       2        1             8   \n",
      "144                 Great Divide       0       5        1             6   \n",
      "145      Lost Trail - Powder Mtn       0       5        3             8   \n",
      "146            Maverick Mountain       0       1        1             2   \n",
      "147             Montana Snowbowl       0       2        2             4   \n",
      "148           Red Lodge Mountain       1       3        1             7   \n",
      "149             Showdown Montana       1       2        1             4   \n",
      "150        Teton Pass Ski Resort       0       1        2             3   \n",
      "151    Whitefish Mountain Resort       6       0        3            14   \n",
      "\n",
      "      Runs  TerrainParks  LongestRun_mi  SkiableTerrain_ac  Snow Making_ac  \\\n",
      "141   27.0           NaN            0.7             1000.0             NaN   \n",
      "142  105.0           2.0            1.5             2000.0           100.0   \n",
      "143   74.0           1.0            1.5             2400.0            25.0   \n",
      "144  110.0           6.0            3.0             1600.0           150.0   \n",
      "145   69.0           2.0            2.5             1800.0             NaN   \n",
      "146   22.0           NaN            1.3              255.0             NaN   \n",
      "147   37.0           NaN            1.2              950.0            20.0   \n",
      "148   70.0           2.0            2.5             1635.0           496.0   \n",
      "149   36.0           1.0            1.8              640.0             NaN   \n",
      "150   43.0           1.0            3.0              330.0             NaN   \n",
      "151  105.0           4.0            3.3             3000.0           600.0   \n",
      "\n",
      "     averageSnowfall  AdultWeekday  AdultWeekend  \n",
      "141            250.0          42.0          42.0  \n",
      "142            350.0          63.0          63.0  \n",
      "143            225.0          49.0          49.0  \n",
      "144            180.0          48.0          48.0  \n",
      "145            325.0          46.0          46.0  \n",
      "146            160.0          39.0          39.0  \n",
      "147            300.0          50.0          50.0  \n",
      "148            250.0          67.0          67.0  \n",
      "149            250.0          47.0          47.0  \n",
      "150            250.0          39.0          39.0  \n",
      "151            333.0          81.0          81.0  \n"
     ]
    }
   ],
   "source": [
    "### WFM_Whitefish_Mountain.ipynb\n",
    "### selects resorts in Montana, excludes Bg sky Resort as \n",
    "### in 2007 this resort was renamed as Whitefish Mountain Resort\n",
    "### ( ski_data.csv ) + (WFM_Whitefish_Mountain.ipynb) ---> (\"ski_data_A.csv\")\n",
    "### -------------------------------------------------------------------------\n",
    "import pandas as pd \n",
    "\n",
    "df = pd.read_csv(\"ski_data.csv\") \n",
    "\n",
    "### print(df.head()) \n",
    "### print(df.tail())\n",
    "### print(df.shape) \n",
    "### print(df.isna().sum(),'<--print(df.isna().sum()')\n",
    "### print(df.isnull().sum(),'<--print(df.isnull().sum()')  \n",
    "\n",
    "    ### select resorts in montana, & omit Big Mountain, because whitefish is renamed version in 2007\n",
    "df2 = df [ ( df.state == 'Montana') & (df.Name != 'Big Sky Resort' )]\n",
    "\n",
    "    ### Select only colums required to meet business goal: show extra value in services as the ticket is over the average resorts\n",
    "df3 = df2[['Name','triple','double','surface','total_chairs','Runs','TerrainParks']]\n",
    "df4 = df2[['LongestRun_mi','SkiableTerrain_ac', 'Snow Making_ac','averageSnowfall', 'AdultWeekday','AdultWeekend']]\n",
    "\n",
    "df5 = pd.concat([df3,df4], axis=1)\n",
    "\n",
    "### df5.drop(df5[' '], axis=1, inplace = True)  ### first column w/o name\n",
    "\n",
    "print(df5.shape)\n",
    "print(df5.head(13)) \n",
    " \n",
    "\n",
    "df5.to_csv(\"ski_data_A.csv\") ### Abridged version based on business request) "
   ]
  }
 ],
 "metadata": {
  "kernelspec": {
   "display_name": "Python 3",
   "language": "python",
   "name": "python3"
  },
  "language_info": {
   "codemirror_mode": {
    "name": "ipython",
    "version": 3
   },
   "file_extension": ".py",
   "mimetype": "text/x-python",
   "name": "python",
   "nbconvert_exporter": "python",
   "pygments_lexer": "ipython3",
   "version": "3.7.6"
  }
 },
 "nbformat": 4,
 "nbformat_minor": 4
}
